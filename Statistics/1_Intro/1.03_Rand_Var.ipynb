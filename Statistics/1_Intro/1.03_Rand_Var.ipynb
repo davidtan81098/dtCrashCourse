{
 "cells": [
  {
   "cell_type": "markdown",
   "metadata": {},
   "source": [
    "# Introduction to Statistics\n",
    "## Chapter 1.3 - Random Variables"
   ]
  },
  {
   "cell_type": "markdown",
   "metadata": {},
   "source": [
    "## Definition\n",
    "- Random variable\n",
    "    - The numerical result of a random trial"
   ]
  },
  {
   "cell_type": "markdown",
   "metadata": {},
   "source": [
    "## Notation\n",
    "- Random variables\n",
    "    - Capital letters\n",
    "    - e.g. $X$, $Y$\n",
    "- Particular outcome of random variable\n",
    "    - Any number or the lowercase version of the letter used to denote the random variable\n",
    "    - e.g. $5, x, y$"
   ]
  },
  {
   "cell_type": "markdown",
   "metadata": {},
   "source": [
    "## Random Variable\n",
    "Suppose we did an experiment, and we have a sample point $p$. Suppose $X$ is the random variable for the experiment, and it has a particular (numeric) value, $x$. Recall that a sample point is a particular outcome from a random trial.  \n",
    "- What is the difference between result of a random trial and an outcome from a random trail?\n",
    "\n",
    "Generally speaking, result and outcome are arguably synonyms. Here, we are defining outcome as the end state of the experiment while the result is a value of a characteristic of the end state.\n",
    "\n",
    "Example  \n",
    "Suppose we have a coin flipping experiment where we count the number of heads after we flip 5 quarters. After flipping the coin 5 times, the coins are in the following state (T, H, H, T, T). This state is the outcome of the experiment. The result of the experiment is 2 because there are 2 heads in the outcome.\n",
    "- Based on this example, we can see that different outcomes can yield the same result.\n",
    "\n",
    "Sometimes, there are several characteristics of the outcome that we are interesting in (e.g. height and weight of a person). Each of the recorded characteristic will be is own random variable. The number of random variables we have have special terminology.\n",
    "- Univariate\n",
    "    - The data consists of 1 random variable.\n",
    "- Bivariate\n",
    "    - The data consists of 2 random variable.\n",
    "- Multivariate\n",
    "    - The data consists of many random variable.\n"
   ]
  },
  {
   "cell_type": "markdown",
   "metadata": {},
   "source": [
    "## Types of Random Variables\n",
    "Suppose $X$ is the random variable for an experiment, and it has a particular result, $x$. If there are finite or countably infinite possible values of $x$, then $X$ is said to be discrete. Basically, this means that if all possible vales of $x$ is (or can be mapped to) a subset of the integer set, then $X$ is a discrete random variable. \n",
    "\n",
    "If $X$ is not discrete, then $X$ is said to be a continuous random variable. This means that there are an uncountably infinite possible values for $x$. Or in simpler terms, if all possible values of $x$ fall between an interval (or several intervals) of the real number line, then $X$ is a continuous random variable.\n",
    "\n",
    "Measurements can only be so percise. There can only be a countably finite different measurement values for a given experiment. Then does that make every experiment a discrete random variable?\n",
    "- Arguably yes, but no one does that because it is not useful. Typically, we think about if the results are theoretically continuous or not.\n",
    "- Generally speaking, measurement with error associated with it are treated as continuous random variable. However, if the measurement is too imprecise, then we may treat is as a discrete random variable because it is binning too many of the true values into a single measurement. This is determined on a case by case basis. \n",
    "\n",
    "If there could be infinite possible values for $x$, does the equation for probability $P(A) = \\frac{|A|}{|S|}$ break down?\n",
    "- Technically, yes. This definition only work if $S$ has finite cardinality. However, there is mathematical theory that allow us to assign \"size\" value to special types of infinite sets (such as numbers). The conceptual idea is still same, the size of set $A$ divided by the size of set $S$. We will stick with the equation for probability, just remember it refers to the \"size\" of the set, not necessarily cardinality."
   ]
  }
 ],
 "metadata": {
  "language_info": {
   "codemirror_mode": {
    "name": "ipython",
    "version": 3
   },
   "file_extension": ".py",
   "mimetype": "text/x-python",
   "name": "python",
   "nbconvert_exporter": "python",
   "pygments_lexer": "ipython3",
   "version": 3
  },
  "orig_nbformat": 2
 },
 "nbformat": 4,
 "nbformat_minor": 2
}